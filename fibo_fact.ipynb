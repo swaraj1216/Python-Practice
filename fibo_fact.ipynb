{
  "nbformat": 4,
  "nbformat_minor": 0,
  "metadata": {
    "colab": {
      "provenance": []
    },
    "kernelspec": {
      "name": "python3",
      "display_name": "Python 3"
    },
    "language_info": {
      "name": "python"
    }
  },
  "cells": [
    {
      "cell_type": "code",
      "execution_count": null,
      "metadata": {
        "id": "W_MuVYgc8hhS"
      },
      "outputs": [],
      "source": [
        "def fibonacci(n):\n",
        "     if n <= 0:\n",
        "        return 0\n",
        "     elif n == 1:\n",
        "        return 1\n",
        "     else:\n",
        "        return fibonacci(n - 1) + fibonacci(n - 2)\n"
      ]
    },
    {
      "cell_type": "code",
      "source": [
        "\n",
        "def fact(n):\n",
        "    if n==0 or n==1:\n",
        "        return 1\n",
        "    else:\n",
        "        return n*fact(n-1)\n",
        "result=fact(3)\n",
        "print(result)"
      ],
      "metadata": {
        "colab": {
          "base_uri": "https://localhost:8080/"
        },
        "id": "hNFPg1crFBo4",
        "outputId": "4c2f8bc0-dbb9-4163-cf1b-eaeb51af1198"
      },
      "execution_count": null,
      "outputs": [
        {
          "output_type": "stream",
          "name": "stdout",
          "text": [
            "6\n"
          ]
        }
      ]
    }
  ]
}