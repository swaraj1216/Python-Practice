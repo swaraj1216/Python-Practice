{
 "cells": [
  {
   "cell_type": "code",
   "execution_count": 14,
   "metadata": {
    "colab": {
     "base_uri": "https://localhost:8080/"
    },
    "executionInfo": {
     "elapsed": 548,
     "status": "ok",
     "timestamp": 1724647746678,
     "user": {
      "displayName": "Mrunmayee Desai",
      "userId": "17323938803911087305"
     },
     "user_tz": -330
    },
    "id": "wVeIslwI7pPd",
    "outputId": "f2c63ad6-4e25-4465-9e6c-d514505375ce"
   },
   "outputs": [
    {
     "name": "stdout",
     "output_type": "stream",
     "text": [
      "0.9764105267938343\n",
      "0.7539022543433046\n",
      "0.5943858000010622\n",
      "-0.5440211108893698\n",
      "0.5104883219167758\n",
      "0.5079774328978962\n",
      "1.160940782072458\n",
      "0.5897317182236432\n",
      "2\n",
      "-9.0\n",
      "28.64788975654116\n",
      "2.8284271247461903\n"
     ]
    }
   ],
   "source": [
    "import math\n",
    "print(math.acos(0.56))\n",
    "print(math.cos(7))\n",
    "print(math.asin(0.56))\n",
    "print(math.sin(10))\n",
    "print(math.atan(0.56))\n",
    "print(math.tanh(0.56))\n",
    "print(math.cosh(0.56))\n",
    "print(math.sinh(0.56))\n",
    "print(math.ceil(1.6))\n",
    "print(math.copysign(9,-5))\n",
    "print(math.degrees(0.5))\n",
    "a=[3,4]\n",
    "b=[5,6]\n",
    "print(math.dist(a,b))"
   ]
  },
  {
   "cell_type": "code",
   "execution_count": 16,
   "metadata": {
    "colab": {
     "base_uri": "https://localhost:8080/"
    },
    "executionInfo": {
     "elapsed": 14140,
     "status": "ok",
     "timestamp": 1724647787896,
     "user": {
      "displayName": "Mrunmayee Desai",
      "userId": "17323938803911087305"
     },
     "user_tz": -330
    },
    "id": "8uwKFDig--Yk",
    "outputId": "25ee4c30-439d-4aed-a3c0-53c06e04587d"
   },
   "outputs": [
    {
     "name": "stdout",
     "output_type": "stream",
     "text": [
      "enter maths marks89\n",
      "enter science marks89\n",
      "enter social science marks88\n",
      "enter computer marks88.43\n",
      "354.43\n",
      "88.6075\n",
      "Distinction\n"
     ]
    }
   ],
   "source": [
    "from re import M\n",
    "ma=float(input(\"enter maths marks\"))\n",
    "s=float(input(\"enter science marks\"))\n",
    "ss=float(input(\"enter social science marks\"))\n",
    "c=float(input(\"enter computer marks\"))\n",
    "total=s+ss+c+ma\n",
    "print(total)\n",
    "agg=total/4\n",
    "print(agg)\n",
    "if(agg>=75):\n",
    "  print(\"Distinction\")\n",
    "elif(agg>=60 and agg<75):\n",
    "  print(\"1ST DIV\")\n",
    "elif(agg>=50 and agg<60):\n",
    "  print(\"2ND DIV\")\n",
    "elif(agg>=40 and agg<50):\n",
    "  print(\"3RD DIV\")\n",
    "else:\n",
    "  print(\"FAIL8\")\n"
   ]
  },
  {
   "cell_type": "code",
   "execution_count": 17,
   "metadata": {
    "colab": {
     "base_uri": "https://localhost:8080/"
    },
    "executionInfo": {
     "elapsed": 514,
     "status": "ok",
     "timestamp": 1724647923581,
     "user": {
      "displayName": "Mrunmayee Desai",
      "userId": "17323938803911087305"
     },
     "user_tz": -330
    },
    "id": "tDfBfqTUBPGD",
    "outputId": "f3c6badf-3297-49b1-d372-085c48b88c2e"
   },
   "outputs": [
    {
     "name": "stdout",
     "output_type": "stream",
     "text": [
      "55\n",
      "5.5\n"
     ]
    }
   ],
   "source": [
    "#avg\n",
    "i=0\n",
    "s=0\n",
    "while(i<=10):\n",
    "  s=s+i\n",
    "  i=i+1\n",
    "avg=float(s)/10\n",
    "print(s)\n",
    "print(avg)"
   ]
  },
  {
   "cell_type": "code",
   "execution_count": 21,
   "metadata": {
    "colab": {
     "base_uri": "https://localhost:8080/"
    },
    "executionInfo": {
     "elapsed": 561,
     "status": "ok",
     "timestamp": 1724648085272,
     "user": {
      "displayName": "Mrunmayee Desai",
      "userId": "17323938803911087305"
     },
     "user_tz": -330
    },
    "id": "Xo-5_tiiBz5T",
    "outputId": "9eb4644e-62b5-4363-cc12-92850b56d8aa"
   },
   "outputs": [
    {
     "name": "stdout",
     "output_type": "stream",
     "text": [
      "* * * * * * * * * * * * * * * * * * * * "
     ]
    }
   ],
   "source": [
    "i=1\n",
    "while(i<=20):\n",
    "  print(\"*\",end=\" \")\n",
    "  i+=1\n"
   ]
  },
  {
   "cell_type": "code",
   "execution_count": 23,
   "metadata": {
    "colab": {
     "base_uri": "https://localhost:8080/"
    },
    "executionInfo": {
     "elapsed": 4257,
     "status": "ok",
     "timestamp": 1724648232018,
     "user": {
      "displayName": "Mrunmayee Desai",
      "userId": "17323938803911087305"
     },
     "user_tz": -330
    },
    "id": "5s5zFFL5CZmm",
    "outputId": "61a07369-f161-4845-f162-8dad47f40a55"
   },
   "outputs": [
    {
     "name": "stdout",
     "output_type": "stream",
     "text": [
      "enter no 7\n",
      "7 * 1 = 7\n",
      "7 * 2 = 14\n",
      "7 * 3 = 21\n",
      "7 * 4 = 28\n",
      "7 * 5 = 35\n",
      "7 * 6 = 42\n",
      "7 * 7 = 49\n",
      "7 * 8 = 56\n",
      "7 * 9 = 63\n",
      "7 * 10 = 70\n"
     ]
    }
   ],
   "source": [
    "#table\n",
    "n=int(input(\"enter no \"))\n",
    "for i in range(1,11):\n",
    "  print(n,\"*\",i,\"=\",n*i)"
   ]
  },
  {
   "cell_type": "code",
   "execution_count": 26,
   "metadata": {
    "colab": {
     "base_uri": "https://localhost:8080/"
    },
    "executionInfo": {
     "elapsed": 2668,
     "status": "ok",
     "timestamp": 1724648391705,
     "user": {
      "displayName": "Mrunmayee Desai",
      "userId": "17323938803911087305"
     },
     "user_tz": -330
    },
    "id": "N7b30a7aC8pe",
    "outputId": "f11c7fc5-95e3-48ea-b7d7-706c7527d808"
   },
   "outputs": [
    {
     "name": "stdout",
     "output_type": "stream",
     "text": [
      "0  is even\n",
      "1  is odd\n",
      "2  is even\n",
      "3  is odd\n",
      "4  is even\n",
      "5  is odd\n",
      "6  is even\n",
      "7  is odd\n",
      "8  is even\n",
      "9  is odd\n",
      "10  is even\n"
     ]
    }
   ],
   "source": [
    "#even odd\n",
    "for i in range(0,11):\n",
    "  if(i%2==0):\n",
    "    print(i,\" is even\")\n",
    "  else:\n",
    "    print(i,\" is odd\")"
   ]
  },
  {
   "cell_type": "code",
   "execution_count": 2,
   "metadata": {
    "executionInfo": {
     "elapsed": 550,
     "status": "ok",
     "timestamp": 1724648542409,
     "user": {
      "displayName": "Mrunmayee Desai",
      "userId": "17323938803911087305"
     },
     "user_tz": -330
    },
    "id": "uExwfr_IDkvX"
   },
   "outputs": [],
   "source": [
    "#leap year\n",
    "for i in range(9100,2101):\n",
    "   if(i%4==0):\n",
    "      print(i,end=\",\")"
   ]
  }
 ],
 "metadata": {
  "colab": {
   "authorship_tag": "ABX9TyP5NRB4XmX5diMtk823lxxa",
   "provenance": []
  },
  "kernelspec": {
   "display_name": "Python 3 (ipykernel)",
   "language": "python",
   "name": "python3"
  },
  "language_info": {
   "codemirror_mode": {
    "name": "ipython",
    "version": 3
   },
   "file_extension": ".py",
   "mimetype": "text/x-python",
   "name": "python",
   "nbconvert_exporter": "python",
   "pygments_lexer": "ipython3",
   "version": "3.12.4"
  }
 },
 "nbformat": 4,
 "nbformat_minor": 4
}
