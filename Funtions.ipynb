{
  "nbformat": 4,
  "nbformat_minor": 0,
  "metadata": {
    "colab": {
      "provenance": [],
      "authorship_tag": "ABX9TyNZcsa2QfvAEwNvf0WhroUy"
    },
    "kernelspec": {
      "name": "python3",
      "display_name": "Python 3"
    },
    "language_info": {
      "name": "python"
    }
  },
  "cells": [
    {
      "cell_type": "code",
      "execution_count": 3,
      "metadata": {
        "colab": {
          "base_uri": "https://localhost:8080/"
        },
        "id": "_PhsAW3N6T8S",
        "outputId": "2f357bac-37b4-4f94-ea7b-1a3feee114ae"
      },
      "outputs": [
        {
          "output_type": "stream",
          "name": "stdout",
          "text": [
            "Hello,Dave!\n"
          ]
        }
      ],
      "source": [
        "def greet(name):\n",
        "  print(f\"Hello,{name}!\")\n",
        "\n",
        "greet(\"Dave\")"
      ]
    },
    {
      "cell_type": "code",
      "source": [
        "#local scope and Global scope\n",
        "x=5\n",
        "def outer_funtion():\n",
        "  y=10\n",
        "  def inner_function():\n",
        "    z=x+y\n",
        "    return z\n",
        "  return inner_function()\n",
        "\n",
        "outer_funtion()\n",
        "\n"
      ],
      "metadata": {
        "colab": {
          "base_uri": "https://localhost:8080/"
        },
        "id": "JKo2ky986taR",
        "outputId": "50513f40-b9b1-4956-f745-0d59f00fc18d"
      },
      "execution_count": 6,
      "outputs": [
        {
          "output_type": "execute_result",
          "data": {
            "text/plain": [
              "15"
            ]
          },
          "metadata": {},
          "execution_count": 6
        }
      ]
    },
    {
      "cell_type": "code",
      "source": [
        "#code to find primes between 1 to 100\n",
        "def find_primes():\n",
        "  for num in range(2,101):\n",
        "    for i in range(2,num):\n",
        "      if num%i==0:\n",
        "        break\n",
        "    else:\n",
        "      print(num)\n",
        "find_primes()"
      ],
      "metadata": {
        "colab": {
          "base_uri": "https://localhost:8080/"
        },
        "id": "pTq1jog28BCg",
        "outputId": "6897f952-6c6c-4f14-d1e3-cc66b381ce35"
      },
      "execution_count": 7,
      "outputs": [
        {
          "output_type": "stream",
          "name": "stdout",
          "text": [
            "2\n",
            "3\n",
            "5\n",
            "7\n",
            "11\n",
            "13\n",
            "17\n",
            "19\n",
            "23\n",
            "29\n",
            "31\n",
            "37\n",
            "41\n",
            "43\n",
            "47\n",
            "53\n",
            "59\n",
            "61\n",
            "67\n",
            "71\n",
            "73\n",
            "79\n",
            "83\n",
            "89\n",
            "97\n"
          ]
        }
      ]
    },
    {
      "cell_type": "code",
      "source": [
        "#code to check given input number is prime or not\n",
        "def check_prime(num):\n",
        "  for i in range(2,num):\n",
        "    if num%i==0:\n",
        "      print(f\"{num} is not a prime number\")\n",
        "      break\n",
        "    else:\n",
        "      print(f\"{num} is a prime number\")\n",
        "      break\n",
        "\n",
        "n=int(input(\"Enter a number:\"))\n",
        "check_prime(n)"
      ],
      "metadata": {
        "colab": {
          "base_uri": "https://localhost:8080/"
        },
        "id": "ro_mmZjl8VsV",
        "outputId": "47e638f4-f36e-4ee3-aeae-f559743b7d2e"
      },
      "execution_count": 10,
      "outputs": [
        {
          "output_type": "stream",
          "name": "stdout",
          "text": [
            "Enter a number:23\n",
            "23 is a prime number\n"
          ]
        }
      ]
    },
    {
      "cell_type": "code",
      "source": [
        "#write a python funtion to find maximum of two numbers\n",
        "def max(x,y):\n",
        "  if x>y:\n",
        "    return x\n",
        "  else:\n",
        "    return y\n",
        "\n",
        "\n",
        "num1=int(input(\"Enter first number:\"))\n",
        "num2=int(input(\"Enter second number:\"))\n",
        "print(f\"maximum number between {num1} and {num2} is:\",max(num1,num2))"
      ],
      "metadata": {
        "colab": {
          "base_uri": "https://localhost:8080/"
        },
        "id": "WKUnotdx9fWV",
        "outputId": "ff273e22-c156-4d61-e516-35d193137068"
      },
      "execution_count": 14,
      "outputs": [
        {
          "output_type": "stream",
          "name": "stdout",
          "text": [
            "Enter first number:321\n",
            "Enter second number:234\n",
            "maximum number between 321 and 234 is: 321\n"
          ]
        }
      ]
    },
    {
      "cell_type": "code",
      "source": [
        "def max(x,y,z):\n",
        "  if x>y and x>z:\n",
        "    return x\n",
        "  elif y>x and y>z:\n",
        "    return y\n",
        "  else:\n",
        "    return z\n",
        "\n",
        "max(10,20,40)"
      ],
      "metadata": {
        "colab": {
          "base_uri": "https://localhost:8080/"
        },
        "id": "KsPN_CUY_IYs",
        "outputId": "08842abd-ad4e-4f6a-ace5-bf1c2fb395e8"
      },
      "execution_count": 15,
      "outputs": [
        {
          "output_type": "execute_result",
          "data": {
            "text/plain": [
              "40"
            ]
          },
          "metadata": {},
          "execution_count": 15
        }
      ]
    },
    {
      "cell_type": "code",
      "source": [
        "#program to build a stack\n",
        "stack=[]\n",
        "def PUSH(stack,item):\n",
        "  stack.append(item)\n",
        "  print(f\"{item} pushed to stack\")\n",
        "\n",
        "def POP(item):\n",
        "  if not stack:\n",
        "    return \"stack is empty\"\n",
        "  return stack.pop(),\"is removed from stack\"\n",
        "\n",
        "def is_empty(stack):\n",
        "  return len(stack)==0\n",
        "\n",
        "def PEEK(stack):\n",
        "  if not stack:\n",
        "    return \"stack is empty\"\n",
        "  else:\n",
        "    return stack\n",
        "\n",
        "def size(stack):\n",
        "  return len(stack)\n",
        "\n",
        "\n",
        "PUSH(stack,10)\n",
        "PUSH(stack,20)\n",
        "PUSH(stack,30)\n",
        "print(POP(stack))\n",
        "print(is_empty(stack))\n",
        "print(PEEK(stack))\n",
        "print(size(stack))\n"
      ],
      "metadata": {
        "colab": {
          "base_uri": "https://localhost:8080/"
        },
        "id": "EOCTtOSsArHV",
        "outputId": "f6add356-35c0-4961-bfb2-01d685d8d0ce"
      },
      "execution_count": 23,
      "outputs": [
        {
          "output_type": "stream",
          "name": "stdout",
          "text": [
            "10 pushed to stack\n",
            "20 pushed to stack\n",
            "30 pushed to stack\n",
            "(30, 'is removed from stack')\n",
            "False\n",
            "[10, 20]\n",
            "2\n"
          ]
        }
      ]
    },
    
    {
      "cell_type": "code",
      "source": [
        "#code to perform bubble sort\n",
        "def bubble_sort(list):\n",
        "  for i in range(len(list)-1):\n",
        "    for j in range(len(list)-i-1):\n",
        "      if list[j]>list[j+1]:\n",
        "        list[j],list[j+1]=list[j+1],list[j]\n",
        "  return list\n",
        "\n",
        "list=[]\n",
        "n=int(input(\"Enter number of elements in list:\"))\n",
        "for i in range(0,n):\n",
        "  element=int(input())\n",
        "  list.append(element)\n",
        "\n",
        "bubble_sort(list)"
      ],
      "metadata": {
        "colab": {
          "base_uri": "https://localhost:8080/"
        },
        "id": "ZX1uwJcQJsXi",
        "outputId": "c3b94e46-1b87-4ed2-c10e-73215b24d5fb"
      },
      "execution_count": 39,
      "outputs": [
        {
          "name": "stdout",
          "output_type": "stream",
          "text": [
            "Enter number of elements in list:5\n",
            "45\n",
            "23\n",
            "99\n",
            "32\n",
            "1\n"
          ]
        },
        {
          "output_type": "execute_result",
          "data": {
            "text/plain": [
              "[1, 23, 32, 45, 99]"
            ]
          },
          "metadata": {},
          "execution_count": 39
        }
      ]
    },
    {
      "cell_type": "code",
      "source": [],
      "metadata": {
        "id": "A8bPeiimLtm8"
      },
      "execution_count": 38,
      "outputs": []
    }
  ]
}
