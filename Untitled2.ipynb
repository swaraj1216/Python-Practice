{
  "nbformat": 4,
  "nbformat_minor": 0,
  "metadata": {
    "colab": {
      "provenance": [],
      "authorship_tag": "ABX9TyNAWP7hpuhTG/45zMLGcOjV",
      "include_colab_link": true
    },
    "kernelspec": {
      "name": "python3",
      "display_name": "Python 3"
    },
    "language_info": {
      "name": "python"
    }
  },
  "cells": [
    {
      "cell_type": "markdown",
      "metadata": {
        "id": "view-in-github",
        "colab_type": "text"
      },
      "source": [
        "<a href=\"https://colab.research.google.com/github/LIXUN22/EXCEPTION-HANDLING-in-python/blob/main/Untitled2.ipynb\" target=\"_parent\"><img src=\"https://colab.research.google.com/assets/colab-badge.svg\" alt=\"Open In Colab\"/></a>"
      ]
    },
    {
      "cell_type": "code",
      "execution_count": null,
      "metadata": {
        "colab": {
          "base_uri": "https://localhost:8080/"
        },
        "id": "4gO4UphkLIy7",
        "outputId": "94b34b92-23aa-4736-e72c-b1d1b4966e60"
      },
      "outputs": [
        {
          "output_type": "stream",
          "name": "stdout",
          "text": [
            "zerodivision error occuredd and handled\n"
          ]
        }
      ],
      "source": [
        "def f(a):\n",
        "  if a<4:\n",
        "    b=a/(a-3)\n",
        "    print(\"value of b is \",b)\n",
        "\n",
        "try:\n",
        "  f(3)\n",
        "  f(5)\n",
        "except ZeroDivisionError :\n",
        "  print(\"zerodivision error occuredd and handled\")\n"
      ]
    },
    {
      "cell_type": "code",
      "source": [
        "def aby(a,b):\n",
        "  try:\n",
        "    c=(a+b)/(a-b)\n",
        "  except ZeroDivisionError:\n",
        "    print(\"a/b result in  0\")\n",
        "  else:\n",
        "    print(c)\n",
        "aby(2.0,3.0)\n",
        "aby(3.0,3.0)"
      ],
      "metadata": {
        "colab": {
          "base_uri": "https://localhost:8080/"
        },
        "id": "3tllWElPLbAA",
        "outputId": "d7f44bfe-4367-4338-e6f7-5b0c89642f09"
      },
      "execution_count": null,
      "outputs": [
        {
          "output_type": "stream",
          "name": "stdout",
          "text": [
            "-5.0\n",
            "a/b result in  0\n"
          ]
        }
      ]
    },
    {
      "cell_type": "code",
      "source": [
        "try:\n",
        "  k=5//10\n",
        "  print(k)\n",
        "except ZeroDivisionError:\n",
        "  print(\"can't divide by zero\")\n",
        "finally :\n",
        "  print(\"finally executed\")\n",
        "\n"
      ],
      "metadata": {
        "colab": {
          "base_uri": "https://localhost:8080/"
        },
        "id": "hEXmVZ0AMPxf",
        "outputId": "776686b6-da33-4552-be04-4051b238d52e"
      },
      "execution_count": null,
      "outputs": [
        {
          "output_type": "stream",
          "name": "stdout",
          "text": [
            "0\n",
            "finally executed\n"
          ]
        }
      ]
    }
  ]
}