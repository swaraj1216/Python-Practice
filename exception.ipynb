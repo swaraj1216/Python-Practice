{
  "nbformat": 4,
  "nbformat_minor": 0,
  "metadata": {
    "colab": {
      "provenance": []
    },
    "kernelspec": {
      "name": "python3",
      "display_name": "Python 3"
    },
    "language_info": {
      "name": "python"
    }
  },
  "cells": [
    {
      "cell_type": "code",
      "execution_count": null,
      "metadata": {
        "colab": {
          "base_uri": "https://localhost:8080/"
        },
        "id": "IOUWrfrBGzMb",
        "outputId": "88691e2a-61ab-4ba6-a829-8766be1aa5c4"
      },
      "outputs": [
        {
          "output_type": "stream",
          "name": "stdout",
          "text": [
            "Test 1: Valid inputs\n",
            "The result is: 5.0\n",
            "\n",
            "Test 2: Division by zero\n",
            "Error: Cannot divide by zero!\n",
            "\n",
            "Test 3: Invalid input types\n",
            "Error: Invalid input type. Please enter numbers only.\n"
          ]
        }
      ],
      "source": [
        "#exceptions\n",
        "def divide_numbers(num1, num2):\n",
        "   try:\n",
        "    result = num1 / num2\n",
        "    print(f\"The result is: {result}\")\n",
        "   except ZeroDivisionError:\n",
        "    print(\"Error: Cannot divide by zero!\")\n",
        "   except TypeError:\n",
        "    print(\"Error: Invalid input type. Please enter numbers only.\")\n",
        "   except ValueError:\n",
        "    print(\"Error: Invalid input value. Please enter a valid number.\")\n",
        "   except Exception as e:\n",
        "    print(f\"An unexpected error occurred: {e}\")\n",
        "\n",
        "print(\"Test 1: Valid inputs\")\n",
        "divide_numbers(10, 2)\n",
        "\n",
        "print(\"\\nTest 2: Division by zero\")\n",
        "divide_numbers(10, 0)\n",
        "\n",
        "print(\"\\nTest 3: Invalid input types\")\n",
        "divide_numbers(\"ten\", 2)"
      ]
    }
  ]
}