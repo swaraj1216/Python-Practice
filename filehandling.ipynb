{
 "cells": [
  {
   "cell_type": "code",
   "execution_count": 1,
   "id": "ae49e3a2-f501-4a0a-92c6-f431ab927f06",
   "metadata": {},
   "outputs": [
    {
     "name": "stdout",
     "output_type": "stream",
     "text": [
      "Content of the source file:\n",
      "This is the original content of the source file.\n",
      "We can add more lines here.\n",
      "\n",
      "Updated content of the source file:\n",
      "This is the original content of the source file.\n",
      "We can add more lines here.\n",
      "This line is appended to the source file.\n",
      "\n",
      "Content copied from source.txt to destination.txt.\n",
      "Content of the destination file:\n",
      "This is the original content of the source file.\n",
      "We can add more lines here.\n",
      "This line is appended to the source file.\n",
      "\n"
     ]
    }
   ],
   "source": [
    "def file_manipulations():\n",
    "    # File names\n",
    "    source_file = 'source.txt'\n",
    "    destination_file = 'destination.txt'\n",
    "\n",
    "  \n",
    "    file = open(source_file, 'w')\n",
    "    file.write(\"This is the original content of the source file.\\n\")\n",
    "    file.write(\"We can add more lines here.\\n\")\n",
    "    file.close()  \n",
    "\n",
    "    file = open(source_file, 'r')  \n",
    "    content = file.read()\n",
    "    print(\"Content of the source file:\")\n",
    "    print(content)\n",
    "    file.close()\n",
    "\n",
    "    # Appending to a file\n",
    "    file = open(source_file, 'a')\n",
    "    file.write(\"This line is appended to the source file.\\n\")\n",
    "    file.close()  \n",
    "\n",
    "    # Reading the updated content\n",
    "    file = open(source_file, 'r') \n",
    "    updated_content = file.read()\n",
    "    print(\"Updated content of the source file:\")\n",
    "    print(updated_content)\n",
    "    file.close()  \n",
    "\n",
    "    # Copying content from one file to another manually\n",
    "    file = open(source_file, 'r')\n",
    "    content_to_copy = file.read()  \n",
    "    file.close()  \n",
    "\n",
    "    file = open(destination_file, 'w')  # Open destination file in write mode\n",
    "    file.write(content_to_copy)  # Write the copied content\n",
    "    file.close()  # Close the destination file\n",
    "    print(f\"Content copied from {source_file} to {destination_file}.\")\n",
    "\n",
    "    # Reading the content of the destination file\n",
    "    file = open(destination_file, 'r')\n",
    "    copied_content = file.read()\n",
    "    print(\"Content of the destination file:\")\n",
    "    print(copied_content)\n",
    "    file.close()\n",
    "\n",
    "file_manipulations()"
   ]
  },
  {
   "cell_type": "code",
   "execution_count": null,
   "id": "aaa866e8-37ab-4156-b699-befa61fa9a40",
   "metadata": {},
   "outputs": [],
   "source": []
  }
 ],
 "metadata": {
  "kernelspec": {
   "display_name": "Python 3 (ipykernel)",
   "language": "python",
   "name": "python3"
  },
  "language_info": {
   "codemirror_mode": {
    "name": "ipython",
    "version": 3
   },
   "file_extension": ".py",
   "mimetype": "text/x-python",
   "name": "python",
   "nbconvert_exporter": "python",
   "pygments_lexer": "ipython3",
   "version": "3.12.4"
  }
 },
 "nbformat": 4,
 "nbformat_minor": 5
}
