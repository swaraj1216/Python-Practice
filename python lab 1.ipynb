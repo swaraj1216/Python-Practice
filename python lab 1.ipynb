{
 "cells": [
  {
   "cell_type": "code",
   "execution_count": 1,
   "id": "fc851b7d-6be9-4379-9340-5c94dcdecfff",
   "metadata": {},
   "outputs": [
    {
     "name": "stdout",
     "output_type": "stream",
     "text": [
      "python is easy\n"
     ]
    }
   ],
   "source": [
    "str=\"python is easy\"\n",
    "print(str)"
   ]
  },
  {
   "cell_type": "code",
   "execution_count": 3,
   "id": "500c6d15-c117-419b-9f85-52a0fd5ca866",
   "metadata": {},
   "outputs": [
    {
     "name": "stdout",
     "output_type": "stream",
     "text": [
      "p\n"
     ]
    }
   ],
   "source": [
    "str=\"python is easy\"\n",
    "print(str[0])"
   ]
  },
  {
   "cell_type": "code",
   "execution_count": 5,
   "id": "99051dff-5d31-4854-ada5-c1cddc7083b9",
   "metadata": {},
   "outputs": [
    {
     "name": "stdout",
     "output_type": "stream",
     "text": [
      "hon is\n"
     ]
    }
   ],
   "source": [
    "str=\"python is easy\"\n",
    "print(str[3:9])"
   ]
  },
  {
   "cell_type": "code",
   "execution_count": 9,
   "id": "cdc81c22-64c1-492c-b8fe-b049bdb20d0e",
   "metadata": {},
   "outputs": [
    {
     "name": "stdout",
     "output_type": "stream",
     "text": [
      "thon is easy\n",
      "pyth\n",
      "python is easypython is easy\n",
      "y\n"
     ]
    }
   ],
   "source": [
    "str=\"python is easy\"\n",
    "print(str[2:])\n",
    "print(str[:4])\n",
    "print(str*2)\n",
    "print(str[-1])"
   ]
  },
  {
   "cell_type": "code",
   "execution_count": 11,
   "id": "77ccba3f-b1d9-49b3-8a5b-55a52c679112",
   "metadata": {},
   "outputs": [
    {
     "name": "stdout",
     "output_type": "stream",
     "text": [
      "('a', 'bc', 78, 1.23)\n",
      "a\n",
      "('bc', 78)\n",
      "('a', 'bc', 78, 1.23, 'a', 'bc', 78, 1.23)\n",
      "('a', 'bc', 78, 1.23, 'd', 78)\n"
     ]
    }
   ],
   "source": [
    "tup=('a','bc',78,1.23)\n",
    "tup2=('d',78)\n",
    "print(tup)\n",
    "print(tup[0])\n",
    "print(tup[1:3])\n",
    "print(tup*2)\n",
    "print(tup+tup2)\n"
   ]
  },
  {
   "cell_type": "code",
   "execution_count": 13,
   "id": "fe68d89e-45ac-48b6-9e4e-7cea8d3fc02c",
   "metadata": {},
   "outputs": [
    {
     "name": "stdout",
     "output_type": "stream",
     "text": [
      "['a', 'bc', 78, 1.23]\n",
      "a\n",
      "[78, 1.23]\n",
      "['a', 'bc', 78, 1.23, 'a', 'bc', 78, 1.23]\n"
     ]
    }
   ],
   "source": [
    "list=['a','bc',78,1.23]\n",
    "list2=['d',78]\n",
    "print(list)\n",
    "print(list[0])\n",
    "print(list[2:])\n",
    "print(list*2)"
   ]
  },
  {
   "cell_type": "code",
   "execution_count": 23,
   "id": "ea93249d-12d4-4d9f-ab55-715e5742fe9a",
   "metadata": {},
   "outputs": [
    {
     "name": "stdout",
     "output_type": "stream",
     "text": [
      "chocolate\n",
      "value1\n"
     ]
    }
   ],
   "source": [
    "dict={\"key1\":\"value1\",\"key2\":\"value2\"}\n",
    "dict2={\"item\":\"chocolate\",\"price\":100}\n",
    "print(dict2['item'])\n",
    "print(dict['key1'])"
   ]
  },
  {
   "cell_type": "code",
   "execution_count": 25,
   "id": "07cb3817-dd0b-4e95-811c-38253cf4bc69",
   "metadata": {},
   "outputs": [
    {
     "name": "stdout",
     "output_type": "stream",
     "text": [
      "2\n",
      "3\n"
     ]
    }
   ],
   "source": [
    "n=int(2.90)\n",
    "print(n)\n",
    "n=round(2.90)\n",
    "print(n)"
   ]
  },
  {
   "cell_type": "code",
   "execution_count": 29,
   "id": "f7cb71b2-9a33-4f8f-9233-4e277fa122ee",
   "metadata": {},
   "outputs": [
    {
     "name": "stdout",
     "output_type": "stream",
     "text": [
      "<class 'int'>\n",
      "<class 'float'>\n",
      "10.0\n",
      "<class 'float'>\n"
     ]
    }
   ],
   "source": [
    "a=7\n",
    "print(type(a))\n",
    "b=3.0\n",
    "print(type(b))\n",
    "c=a+b\n",
    "print(c)\n",
    "print(type(c))"
   ]
  },
  {
   "cell_type": "code",
   "execution_count": 31,
   "id": "b6ab0679-38d9-4f4d-959b-cf6d36a265c6",
   "metadata": {},
   "outputs": [
    {
     "name": "stdin",
     "output_type": "stream",
     "text": [
      "enter the first side: 3\n",
      "enter the second side: 2\n",
      "enter the third side: 4\n"
     ]
    },
    {
     "name": "stdout",
     "output_type": "stream",
     "text": [
      "a= 3.0\n",
      "b= 2.0\n",
      "c= 4.0\n",
      "area of triangle: 8.4375\n"
     ]
    }
   ],
   "source": [
    "a=float(input(\"enter the first side:\"))\n",
    "b=float(input(\"enter the second side:\"))\n",
    "c=float(input(\"enter the third side:\"))\n",
    "print(\"a=\",a)\n",
    "print(\"b=\",b)\n",
    "print(\"c=\",c)\n",
    "s=(a+b+c)/2\n",
    "area=(s*(s-a)*(s-b)*(s-c))\n",
    "print(\"area of triangle:\",area)"
   ]
  },
  {
   "cell_type": "code",
   "execution_count": 51,
   "id": "187c40bb-f0cb-4a70-be71-3c82760aa8bc",
   "metadata": {},
   "outputs": [
    {
     "name": "stdin",
     "output_type": "stream",
     "text": [
      "radius of circle: 6.1\n"
     ]
    },
    {
     "name": "stdout",
     "output_type": "stream",
     "text": [
      "116.8394\n"
     ]
    }
   ],
   "source": [
    "r=float(input(\"radius of circle:\"))\n",
    "area=3.14*r*r\n",
    "print(area)"
   ]
  },
  {
   "cell_type": "code",
   "execution_count": 57,
   "id": "c38f2d45-945d-48eb-b4f3-c1b28badcc65",
   "metadata": {},
   "outputs": [
    {
     "name": "stdin",
     "output_type": "stream",
     "text": [
      "Enter x1: 34\n",
      "Enter x2: 23\n",
      "Enter y1: 54\n",
      "Enter y2: 67\n"
     ]
    },
    {
     "name": "stdout",
     "output_type": "stream",
     "text": [
      "distance between two points 145.0\n"
     ]
    }
   ],
   "source": [
    "x1=int(input(\"Enter x1:\"))\n",
    "x2=int(input(\"Enter x2:\"))\n",
    "y1=int(input(\"Enter y1:\"))\n",
    "y2=int(input(\"Enter y2:\"))\n",
    "distance=(((x2-x1)**2+(y2-y1)**2)*0.5)\n",
    "print(\"distance between two points\",distance)"
   ]
  },
  {
   "cell_type": "code",
   "execution_count": 63,
   "id": "bb1408b8-14eb-4f2f-b0d7-29e7d5c0b3e6",
   "metadata": {},
   "outputs": [
    {
     "name": "stdin",
     "output_type": "stream",
     "text": [
      "enter first number 34\n",
      "enter second number 67\n"
     ]
    },
    {
     "name": "stdout",
     "output_type": "stream",
     "text": [
      "average of two numbers: 50.5\n",
      "deviation of 1'st number -16.5\n",
      "deviation of 2'nd number 16.5\n"
     ]
    }
   ],
   "source": [
    "#write a program to calculate avg of two numbers and print their deviation\n",
    "a=int(input(\"enter first number\"))\n",
    "b=int(input(\"enter second number\"))\n",
    "avg=(a+b)/2\n",
    "print(\"average of two numbers:\",avg)\n",
    "dev1=a-avg\n",
    "print(\"deviation of 1'st number:\",dev1)\n",
    "dev2=b-avg\n",
    "print(\"deviation of 2'nd number:\",dev2)\n"
   ]
  },
  {
   "cell_type": "code",
   "execution_count": null,
   "id": "cb003806-6981-4a08-860f-3cd258eb22ce",
   "metadata": {},
   "outputs": [],
   "source": []
  }
 ],
 "metadata": {
  "kernelspec": {
   "display_name": "Python 3 (ipykernel)",
   "language": "python",
   "name": "python3"
  },
  "language_info": {
   "codemirror_mode": {
    "name": "ipython",
    "version": 3
   },
   "file_extension": ".py",
   "mimetype": "text/x-python",
   "name": "python",
   "nbconvert_exporter": "python",
   "pygments_lexer": "ipython3",
   "version": "3.12.4"
  }
 },
 "nbformat": 4,
 "nbformat_minor": 5
}
