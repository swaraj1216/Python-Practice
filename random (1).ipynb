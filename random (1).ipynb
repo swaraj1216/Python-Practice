{
 "cells": [
  {
   "cell_type": "code",
   "execution_count": 1,
   "metadata": {},
   "outputs": [
    {
     "name": "stdout",
     "output_type": "stream",
     "text": [
      "4\n",
      "1.4904672525109555\n",
      "apple\n",
      "['red', 'purple', 'green']\n",
      "['King', 'Jack', '2', '9', '4', '8', '7', '3', 'Queen', '6', '5', 'Ace', '10']\n",
      "0\n",
      "0.8638377293491616\n"
     ]
    }
   ],
   "source": [
    "import random\n",
    "\n",
    "random_number = random.randint(1, 10)\n",
    "print(random_number)\n",
    "random_float = random.uniform(1.0, 10.0)\n",
    "print(random_float)\n",
    "fruits = ['apple', 'banana', 'cherry']\n",
    "random_fruit = random.choice(fruits)\n",
    "print(random_fruit)\n",
    "colors = ['red', 'green', 'blue', 'yellow', 'purple']\n",
    "random_sample = random.sample(colors, 3)\n",
    "print(random_sample)\n",
    "deck_of_cards = ['Ace', '2', '3', '4', '5', '6', '7', '8', '9', '10', 'Jack', 'Queen', 'King']\n",
    "random.shuffle(deck_of_cards)\n",
    "print(deck_of_cards)\n",
    "random_step_integer = random.randrange(0, 100, 5)  # Generates a random integer from 0 to 95, stepping by 5\n",
    "print(random_step_integer)\n",
    "random_float = random.random()\n",
    "print(random_float)"
   ]
  },
  {
   "cell_type": "code",
   "execution_count": null,
   "metadata": {},
   "outputs": [],
   "source": []
  }
 ],
 "metadata": {
  "kernelspec": {
   "display_name": "Python 3 (ipykernel)",
   "language": "python",
   "name": "python3"
  },
  "language_info": {
   "codemirror_mode": {
    "name": "ipython",
    "version": 3
   },
   "file_extension": ".py",
   "mimetype": "text/x-python",
   "name": "python",
   "nbconvert_exporter": "python",
   "pygments_lexer": "ipython3",
   "version": "3.12.4"
  }
 },
 "nbformat": 4,
 "nbformat_minor": 4
}
