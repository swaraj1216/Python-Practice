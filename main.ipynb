{
 "cells": [
  {
   "cell_type": "code",
   "execution_count": 3,
   "metadata": {},
   "outputs": [
    {
     "name": "stdout",
     "output_type": "stream",
     "text": [
      "The greatest number is: 10\n"
     ]
    }
   ],
   "source": [
    "# check which number is greatest in the three\n",
    "a = int(input(\"Input First Number: \"))\n",
    "b = int(input(\"Input Second Number: \"))\n",
    "c = int(input(\"Input Third Number: \"))\n",
    "\n",
    "if a > b and a > c:\n",
    "    print(f\"The greatest number is: {a}\")\n",
    "elif b > a and b > c:\n",
    "    print(f\"The greatest number is: {b}\")\n",
    "else:\n",
    "    print(f\"The greatest number is: {c}\")\n"
   ]
  },
  {
   "cell_type": "code",
   "execution_count": 6,
   "metadata": {},
   "outputs": [
    {
     "name": "stdout",
     "output_type": "stream",
     "text": [
      "Year is Not a Leap Year\n"
     ]
    }
   ],
   "source": [
    "# write a program to find leap year\n",
    "year = int(input(\"Enter Any Year\"))\n",
    "\n",
    "if((year % 4) == 0):\n",
    "  print(\"Year is a Leap Year\")\n",
    "else:\n",
    "  print(\"Year is Not a Leap Year\")\n"
   ]
  },
  {
   "cell_type": "code",
   "execution_count": 11,
   "metadata": {},
   "outputs": [
    {
     "name": "stdout",
     "output_type": "stream",
     "text": [
      "You will be Eligible after 10 years\n"
     ]
    }
   ],
   "source": [
    "#program to determine whether a person is eligble to vote or not, if he is not eligible display how many yrs are there to be eligble \n",
    "age = int(input(\"Enter Your Age\"))\n",
    "\n",
    "if(age > 18):\n",
    "  print(\"You are Eligible to Vote\")\n",
    "else:\n",
    "  a = 18 - age\n",
    "  print(\"You are not Eligible to Vote\")\n",
    "  print(f\"You will be Eligible after {a} years\")"
   ]
  },
  {
   "cell_type": "code",
   "execution_count": 14,
   "metadata": {},
   "outputs": [
    {
     "name": "stdout",
     "output_type": "stream",
     "text": [
      "Friday\n"
     ]
    }
   ],
   "source": [
    "#program which prompts the user to enter a number between 1 to 7 and display the corresponding day of the week\n",
    "\n",
    "num = int(input(\"Enter A Number Between 1 and 7\"))\n",
    "\n",
    "if (num == 1):\n",
    "  print(\"Monday\")\n",
    "elif (num == 2):\n",
    "  print(\"Tuesday\")\n",
    "elif (num == 3):\n",
    "  print(\"Wednesday\")\n",
    "elif (num == 4):\n",
    "  print(\"Thursday\")\n",
    "elif (num == 5):\n",
    "  print(\"Friday\")\n",
    "elif (num == 6):\n",
    "  print(\"Saturday\")\n",
    "elif (num == 7):\n",
    "  print(\"Sunday\")\n",
    "else:\n",
    "  print(\"Invalid Input\")"
   ]
  },
  {
   "cell_type": "code",
   "execution_count": 17,
   "metadata": {},
   "outputs": [
    {
     "name": "stdout",
     "output_type": "stream",
     "text": [
      "Friday\n"
     ]
    }
   ],
   "source": [
    "#program which prompts the user to enter a number between 1 to 7 and display the corresponding day of the week\n",
    "\n",
    "num = int(input(\"Enter A Number Between 1 and 7\"))\n",
    "a = {1 : \"Monday\" ,2 : \"Tuesday\" ,3 : \"Wednesday\" ,4 : \"Thursday\" ,5 : \"Friday\" ,6 : \"Saturday\" ,7 : \"Sunday\"  }\n",
    "if (num > 0 and num < 8):\n",
    "    print(a[num])\n",
    "else:\n",
    "    print(\"Invalid Input\")"
   ]
  }
 ],
 "metadata": {
  "kernelspec": {
   "display_name": "Python 3",
   "language": "python",
   "name": "python3"
  },
  "language_info": {
   "codemirror_mode": {
    "name": "ipython",
    "version": 3
   },
   "file_extension": ".py",
   "mimetype": "text/x-python",
   "name": "python",
   "nbconvert_exporter": "python",
   "pygments_lexer": "ipython3",
   "version": "3.12.4"
  }
 },
 "nbformat": 4,
 "nbformat_minor": 2
}
